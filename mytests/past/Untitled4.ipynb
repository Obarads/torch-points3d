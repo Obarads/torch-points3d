{
 "cells": [
  {
   "cell_type": "code",
   "execution_count": 1,
   "metadata": {},
   "outputs": [],
   "source": [
    "import os, sys\n",
    "sys.path.append(\"../\")\n",
    "# from classes.dataset import S3DIS1x1wIns\n",
    "# import omegaconf"
   ]
  },
  {
   "cell_type": "code",
   "execution_count": 2,
   "metadata": {},
   "outputs": [],
   "source": [
    "# cfg = omegaconf.OmegaConf.load(\"s3dis1x1.yaml\")\n",
    "# dataset_cfg = cfg.data\n",
    "# dataset_cfg.dataroot = tp3d_dataset_path"
   ]
  },
  {
   "cell_type": "code",
   "execution_count": 3,
   "metadata": {},
   "outputs": [],
   "source": [
    "from torch_points3d.datasets.segmentation.s3dis import read_s3dis_format"
   ]
  },
  {
   "cell_type": "code",
   "execution_count": 4,
   "metadata": {},
   "outputs": [],
   "source": [
    "tp3d_dataset_file_path = \"/mnt/sd1/torch_point3d/s3disfused/raw/Area_1/WC_1\""
   ]
  },
  {
   "cell_type": "code",
   "execution_count": 28,
   "metadata": {},
   "outputs": [
    {
     "data": {
      "text/plain": [
       "(tensor([[-16.7800,  42.6730,   2.7590],\n",
       "         [-16.7330,  42.6900,   2.7580],\n",
       "         [-16.7200,  42.6300,   2.7560],\n",
       "         ...,\n",
       "         [-17.0560,  43.8500,   1.5600],\n",
       "         [-17.0720,  43.8540,   1.6010],\n",
       "         [-17.0850,  43.8600,   1.6340]]),\n",
       " tensor([[160, 164, 193],\n",
       "         [249, 255, 253],\n",
       "         [244, 247, 254],\n",
       "         ...,\n",
       "         [135, 127,  91],\n",
       "         [134, 129, 107],\n",
       "         [137, 135, 110]], dtype=torch.uint8),\n",
       " tensor([0, 0, 0,  ..., 2, 2, 2]),\n",
       " tensor([35, 35, 35,  ..., 38, 38, 38]),\n",
       " tensor([5]))"
      ]
     },
     "execution_count": 28,
     "metadata": {},
     "output_type": "execute_result"
    }
   ],
   "source": [
    "# dataset = S3DIS1x1Dataset(dataset_cfg)\n",
    "torch_data = read_s3dis_format(tp3d_dataset_file_path, \"WC_1\")\n",
    "torch_data"
   ]
  },
  {
   "cell_type": "code",
   "execution_count": 21,
   "metadata": {},
   "outputs": [],
   "source": [
    "from torchpcp.utils.io import ply\n",
    "from torchpcp.utils.pytorch_tools import t2n"
   ]
  },
  {
   "cell_type": "code",
   "execution_count": 22,
   "metadata": {},
   "outputs": [
    {
     "name": "stdout",
     "output_type": "stream",
     "text": [
      "Help on function write_pc in module torchpcp.utils.io.ply:\n",
      "\n",
      "write_pc(filename, xyz, rgb=None)\n",
      "    write into a ply file\n",
      "    ref.:https://github.com/loicland/superpoint_graph/blob/ssp%2Bspg/partition/provider.py\n",
      "\n",
      "Help on function write_pc_label in module torchpcp.utils.io.ply:\n",
      "\n",
      "write_pc_label(filename, xyz, labels, seed=0, color_map: list = None)\n",
      "\n"
     ]
    }
   ],
   "source": [
    "help(ply.write_pc)\n",
    "help(ply.write_pc_label)\n",
    "# ply.write_pc(\"raw_test.ply\", t2n(torch_data[0]), t2n(torch_data[1]))\n",
    "# ply.write_pc_label(\"ins_test.ply\", t2n(torch_data[0]), t2n(torch_data[2]))"
   ]
  },
  {
   "cell_type": "code",
   "execution_count": 30,
   "metadata": {},
   "outputs": [],
   "source": [
    "xyz = t2n(torch_data[0])\n",
    "rgb = t2n(torch_data[1])\n",
    "# xyz = torch_data[0]\n",
    "# rgb = torch_data[1]\n",
    "\n",
    "\n",
    "xyz_min = np.min(xyz, axis=0)\n",
    "diff = 0 - xyz_min\n",
    "normilized_xyz = xyz + diff\n",
    "\n",
    "ply.write_pc(\"raw_normilized_test.ply\", normilized_xyz, rgb)\n"
   ]
  },
  {
   "cell_type": "code",
   "execution_count": 13,
   "metadata": {},
   "outputs": [
    {
     "data": {
      "text/plain": [
       "array([[4.053e+00, 4.400e-01, 2.163e+00, ..., 1.880e+02, 2.000e+00,\n",
       "        0.000e+00],\n",
       "       [4.033e+00, 4.380e-01, 2.163e+00, ..., 1.270e+02, 2.000e+00,\n",
       "        0.000e+00],\n",
       "       [4.043e+00, 6.580e-01, 2.580e-01, ..., 1.040e+02, 2.000e+00,\n",
       "        0.000e+00],\n",
       "       ...,\n",
       "       [4.138e+00, 4.030e+00, 1.630e-01, ..., 1.040e+02, 2.000e+00,\n",
       "        4.000e+01],\n",
       "       [4.134e+00, 4.030e+00, 1.680e-01, ..., 1.050e+02, 2.000e+00,\n",
       "        4.000e+01],\n",
       "       [4.168e+00, 4.027e+00, 1.410e-01, ..., 1.020e+02, 2.000e+00,\n",
       "        4.000e+01]])"
      ]
     },
     "execution_count": 13,
     "metadata": {},
     "output_type": "execute_result"
    }
   ],
   "source": [
    "npy_path = \"/home/obarads/databox/torch_point3d/s3dis1x1ins/raw/scenes/Area_1_WC_1.npy\"\n",
    "npy_data = np.load(npy_path)\n",
    "# npy_data.shape\n",
    "npy_data\n",
    "\n"
   ]
  },
  {
   "cell_type": "code",
   "execution_count": 17,
   "metadata": {},
   "outputs": [],
   "source": [
    "# ply.write_pc(\"npy_raw_test.ply\", npy_data[:, :3], npy_data[:, 3:6])\n",
    "ply.write_pc_label(\"npy_sem_test.ply\", npy_data[:, :3], npy_data[:, 6].astype(np.int32))\n",
    "ply.write_pc_label(\"npy_ins_test.ply\", npy_data[:, :3], npy_data[:, 7].astype(np.int32))\n"
   ]
  },
  {
   "cell_type": "code",
   "execution_count": 8,
   "metadata": {},
   "outputs": [],
   "source": [
    "import k3d\n",
    "import numpy as np"
   ]
  },
  {
   "cell_type": "code",
   "execution_count": 9,
   "metadata": {},
   "outputs": [
    {
     "data": {
      "application/vnd.jupyter.widget-view+json": {
       "model_id": "92b20ffdd09949b9b449a9b0d8c9089c",
       "version_major": 2,
       "version_minor": 0
      },
      "text/plain": [
       "Output()"
      ]
     },
     "metadata": {},
     "output_type": "display_data"
    },
    {
     "name": "stderr",
     "output_type": "stream",
     "text": [
      "/home/obarads/anaconda3/envs/torch-points3dv2/lib/python3.7/site-packages/traittypes/traittypes.py:101: UserWarning: Given trait value dtype \"float32\" does not match required type \"uint32\". A coerced copy has been created.\n",
      "  np.dtype(self.dtype).name))\n"
     ]
    }
   ],
   "source": [
    "# get coords\n",
    "coords = t2n(torch_data[0])\n",
    "# get color codes\n",
    "colors = t2n(torch_data[1])\n",
    "colors = colors.astype(np.int32)\n",
    "colors = colors[:, 0]*256*256 + colors[:,1]*256 + colors[:,2] # to color code\n",
    "\n",
    "# visualize point cloud\n",
    "plot = k3d.plot()\n",
    "points = k3d.points(coords, colors.astype(np.float32), point_size=0.02, shader='flat')\n",
    "plot += points\n",
    "plot.display()\n"
   ]
  },
  {
   "cell_type": "code",
   "execution_count": null,
   "metadata": {},
   "outputs": [],
   "source": []
  }
 ],
 "metadata": {
  "kernelspec": {
   "display_name": "Python 3",
   "language": "python",
   "name": "python3"
  },
  "language_info": {
   "codemirror_mode": {
    "name": "ipython",
    "version": 3
   },
   "file_extension": ".py",
   "mimetype": "text/x-python",
   "name": "python",
   "nbconvert_exporter": "python",
   "pygments_lexer": "ipython3",
   "version": "3.7.9"
  }
 },
 "nbformat": 4,
 "nbformat_minor": 4
}
