{
 "cells": [
  {
   "cell_type": "code",
   "execution_count": 1,
   "source": [
    "%load_ext autoreload\n",
    "%autoreload 2"
   ],
   "outputs": [],
   "metadata": {}
  },
  {
   "cell_type": "code",
   "execution_count": 2,
   "source": [
    "from debuglib import t2n, write_pc"
   ],
   "outputs": [],
   "metadata": {}
  },
  {
   "cell_type": "code",
   "execution_count": 3,
   "source": [
    "import os, sys\n",
    "from os.path import join as opj\n",
    "sys.path.append(\"../\")\n",
    "\n",
    "import argparse\n",
    "from omegaconf import OmegaConf\n",
    "from torch_geometric import data\n",
    "from torch_geometric.datasets import S3DIS as S3DIS1x1\n",
    "import k3d\n",
    "\n",
    "# paths\n",
    "tg_dataset_path = \"/home/coder/workspace/data2/torch_geometric/S3DIS\"\n",
    "# data_config_path = '/home/coder/workspace/code/myrepo/torch-points3d/conf/data/segmentation/s3disfused.yaml'\n",
    "# config_path = '/home/coder/workspace/code/myrepo/torch-points3d/conf/config.yaml'\n",
    "output_path = 'output/'\n",
    "\n",
    "# cfg = OmegaConf.load(config_path)\n",
    "# cfg.data = OmegaConf.load(data_config_path)\n",
    "# cfg.data.dataroot = tp3d_dataset_path\n"
   ],
   "outputs": [],
   "metadata": {}
  },
  {
   "cell_type": "code",
   "execution_count": 20,
   "source": [
    "# dataset = S3DISFusedDataset(cfg.data)\n",
    "dataset = S3DIS1x1(tg_dataset_path)"
   ],
   "outputs": [],
   "metadata": {}
  },
  {
   "cell_type": "code",
   "execution_count": 26,
   "source": [
    "train_data = dataset[4]\n",
    "norm_xyz = t2n(train_data.pos)\n",
    "rgb = t2n(train_data.x[:, :3]*255)\n",
    "print(train_data)\n",
    "write_pc('output/02_tgs3dis_norm_xyz.ply', norm_xyz, rgb)\n",
    "xyz = t2n(train_data.x[:, 3:])\n",
    "write_pc('output/02_tgs3dis_xyz.ply', xyz, rgb)\n",
    "# write_pc(opj(output_path, '02_data.ply'), train_data.pos)"
   ],
   "outputs": [
    {
     "output_type": "stream",
     "name": "stdout",
     "text": [
      "Data(pos=[4096, 3], x=[4096, 6], y=[4096])\n"
     ]
    }
   ],
   "metadata": {}
  },
  {
   "cell_type": "code",
   "execution_count": 11,
   "source": [
    "import h5py\n",
    "raw_file_path = \"/home/coder/workspace/data2/torch_geometric/S3DIS/raw/ply_data_all_0.h5\"\n",
    "f = h5py.File(raw_file_path)\n",
    "keys = []\n",
    "for key in f: \n",
    "    keys.append(key)\n",
    "    print(f[key][:].shape)\n",
    "print(keys)"
   ],
   "outputs": [
    {
     "output_type": "stream",
     "name": "stdout",
     "text": [
      "(1000, 4096, 9)\n",
      "(1000, 4096)\n",
      "['data', 'label']\n"
     ]
    }
   ],
   "metadata": {}
  },
  {
   "cell_type": "code",
   "execution_count": 16,
   "source": [
    "import torch\n",
    "pt_path = \"/home/coder/workspace/data2/torch_geometric/S3DIS/processed/train_6.pt\"\n",
    "pt_data, pt_slices = torch.load(pt_path)\n",
    "print(\"pt_data:\",pt_data)\n",
    "print(\"pt_slices:\",pt_slices)\n",
    "print(\"pt_slices shape:\",pt_slices[\"x\"].shape)\n",
    "print(\"shape check:\",pt_data.x.shape[0] / 4096)\n",
    "\n"
   ],
   "outputs": [
    {
     "output_type": "stream",
     "name": "stdout",
     "text": [
      "pt_data: Data(pos=[83111936, 3], x=[83111936, 6], y=[83111936])\n",
      "pt_slices: {'x': tensor([       0,     4096,     8192,  ..., 83103744, 83107840, 83111936]), 'y': tensor([       0,     4096,     8192,  ..., 83103744, 83107840, 83111936]), 'pos': tensor([       0,     4096,     8192,  ..., 83103744, 83107840, 83111936])}\n",
      "pt_slices shape: torch.Size([20292])\n",
      "shape check: 20291.0\n"
     ]
    }
   ],
   "metadata": {}
  },
  {
   "cell_type": "code",
   "execution_count": null,
   "source": [],
   "outputs": [],
   "metadata": {}
  }
 ],
 "metadata": {
  "orig_nbformat": 4,
  "language_info": {
   "name": "python",
   "version": "3.7.10",
   "mimetype": "text/x-python",
   "codemirror_mode": {
    "name": "ipython",
    "version": 3
   },
   "pygments_lexer": "ipython3",
   "nbconvert_exporter": "python",
   "file_extension": ".py"
  },
  "kernelspec": {
   "name": "python3",
   "display_name": "Python 3.7.10 64-bit ('tp3v1': conda)"
  },
  "interpreter": {
   "hash": "8a5c24375b80f12a307571fcecf3962cc4daf97532989e59357869772c9edc1b"
  }
 },
 "nbformat": 4,
 "nbformat_minor": 2
}