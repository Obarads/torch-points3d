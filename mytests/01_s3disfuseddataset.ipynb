{
 "cells": [
  {
   "cell_type": "code",
   "execution_count": 9,
   "source": [
    "%load_ext autoreload\n",
    "%autoreload 2"
   ],
   "outputs": [],
   "metadata": {}
  },
  {
   "cell_type": "code",
   "execution_count": 10,
   "source": [
    "from debuglib import t2n, write_pc"
   ],
   "outputs": [],
   "metadata": {}
  },
  {
   "cell_type": "code",
   "execution_count": null,
   "source": [
    "import os, sys\n",
    "from os.path import join as opj\n",
    "sys.path.append(\"../\")\n",
    "\n",
    "import argparse\n",
    "from omegaconf import OmegaConf\n",
    "from torch_geometric import data\n",
    "from torch_points3d.datasets.segmentation.s3dis import S3DISOriginalFused, S3DISFusedDataset\n",
    "import k3d\n",
    "\n",
    "# paths\n",
    "tp3d_dataset_path = \"/home/coder/workspace/data2/torch_point3d/\"\n",
    "data_config_path = '/home/coder/workspace/code/myrepo/torch-points3d/conf/data/segmentation/s3disfused.yaml'\n",
    "config_path = '/home/coder/workspace/code/myrepo/torch-points3d/conf/config.yaml'\n",
    "output_path = 'output/'\n",
    "\n",
    "cfg = OmegaConf.load(config_path)\n",
    "cfg.data = OmegaConf.load(data_config_path)\n",
    "cfg.data.dataroot = tp3d_dataset_path\n"
   ],
   "outputs": [],
   "metadata": {}
  },
  {
   "cell_type": "code",
   "execution_count": 5,
   "source": [
    "dataset = S3DISFusedDataset(cfg.data)"
   ],
   "outputs": [
    {
     "output_type": "display_data",
     "data": {
      "text/plain": [
       "  0%|          | 0/5 [00:00<?, ?it/s]"
      ],
      "application/vnd.jupyter.widget-view+json": {
       "version_major": 2,
       "version_minor": 0,
       "model_id": "1f89b557939a41368f25ff05b26c70bc"
      }
     },
     "metadata": {}
    },
    {
     "output_type": "display_data",
     "data": {
      "text/plain": [
       "  0%|          | 0/1 [00:00<?, ?it/s]"
      ],
      "application/vnd.jupyter.widget-view+json": {
       "version_major": 2,
       "version_minor": 0,
       "model_id": "4104d8e568194b80a36029ca41eae8e8"
      }
     },
     "metadata": {}
    }
   ],
   "metadata": {}
  },
  {
   "cell_type": "code",
   "execution_count": 6,
   "source": [
    "train_dataset = dataset.train_dataset\n",
    "train_data = train_dataset[4]\n",
    "print(train_data)"
   ],
   "outputs": [
    {
     "output_type": "stream",
     "name": "stdout",
     "text": [
      "Data(grid_size=[1], origin_id=[9659], pos=[9659, 3], x=[9659, 4], y=[9659])\n"
     ]
    }
   ],
   "metadata": {}
  },
  {
   "cell_type": "code",
   "execution_count": 11,
   "source": [
    "xyz = t2n(train_data.pos)"
   ],
   "outputs": [],
   "metadata": {}
  },
  {
   "cell_type": "code",
   "execution_count": 12,
   "source": [
    "write_pc(opj(output_path, '01_sphere.ply'), xyz)\n",
    "# plot = k3d.plot()\n",
    "# points = k3d.points(xyz)\n",
    "# plot += points\n",
    "# plot.display()"
   ],
   "outputs": [],
   "metadata": {}
  },
  {
   "cell_type": "code",
   "execution_count": null,
   "source": [],
   "outputs": [],
   "metadata": {}
  }
 ],
 "metadata": {
  "orig_nbformat": 4,
  "language_info": {
   "name": "python",
   "version": "3.7.10",
   "mimetype": "text/x-python",
   "codemirror_mode": {
    "name": "ipython",
    "version": 3
   },
   "pygments_lexer": "ipython3",
   "nbconvert_exporter": "python",
   "file_extension": ".py"
  },
  "kernelspec": {
   "name": "python3",
   "display_name": "Python 3.7.10 64-bit ('tp3v1': conda)"
  },
  "interpreter": {
   "hash": "8a5c24375b80f12a307571fcecf3962cc4daf97532989e59357869772c9edc1b"
  }
 },
 "nbformat": 4,
 "nbformat_minor": 2
}