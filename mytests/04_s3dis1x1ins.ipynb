{
 "cells": [
  {
   "cell_type": "code",
   "execution_count": 1,
   "source": [
    "%load_ext autoreload\n",
    "%autoreload 2"
   ],
   "outputs": [],
   "metadata": {}
  },
  {
   "cell_type": "code",
   "execution_count": 2,
   "source": [
    "from debuglib import t2n, write_pc"
   ],
   "outputs": [],
   "metadata": {}
  },
  {
   "cell_type": "code",
   "execution_count": 3,
   "source": [
    "import os, sys\n",
    "from os.path import join as opj\n",
    "sys.path.append(\"../\")\n",
    "\n",
    "import argparse\n",
    "from omegaconf import OmegaConf\n",
    "from torch_geometric import data\n",
    "from torch_points3d.datasets.segmentation.s3dis import S3DIS1x1Ins\n",
    "import k3d\n",
    "\n",
    "# paths\n",
    "# tg_dataset_path = \"/home/coder/workspace/data2/torch_point3d/s3dis1x1ins\"\n",
    "tg_dataset_path = 'data/'\n",
    "# data_config_path = '/home/coder/workspace/code/myrepo/torch-points3d/conf/data/segmentation/s3disfused.yaml'\n",
    "# config_path = '/home/coder/workspace/code/myrepo/torch-points3d/conf/config.yaml'\n",
    "output_path = 'output/'\n",
    "\n",
    "# cfg = OmegaConf.load(config_path)\n",
    "# cfg.data = OmegaConf.load(data_config_path)\n",
    "# cfg.data.dataroot = tp3d_dataset_path\n"
   ],
   "outputs": [],
   "metadata": {}
  },
  {
   "cell_type": "code",
   "execution_count": 4,
   "source": [
    "dataset = S3DIS1x1Ins(tg_dataset_path)"
   ],
   "outputs": [],
   "metadata": {
    "tags": [
     "outputPrepend"
    ]
   }
  },
  {
   "cell_type": "code",
   "execution_count": 5,
   "source": [
    "data = dataset[0]"
   ],
   "outputs": [],
   "metadata": {}
  },
  {
   "cell_type": "code",
   "execution_count": 6,
   "source": [
    "data"
   ],
   "outputs": [
    {
     "output_type": "execute_result",
     "data": {
      "text/plain": [
       "Data(area_room=[4096], block=[4096], ins_y=[4096], pos=[4096, 3], x=[4096, 6], y=[4096])"
      ]
     },
     "metadata": {},
     "execution_count": 6
    }
   ],
   "metadata": {}
  },
  {
   "cell_type": "code",
   "execution_count": 7,
   "source": [
    "import numpy as np\n",
    "import k3d\n",
    "\n",
    "def to_hex_number(rgb:np.ndarray):\n",
    "    rgb = rgb[:, 0]*256*256 + rgb[:,1]*256 + rgb[:,2] # from RGB to color code\n",
    "    return rgb\n",
    "\n",
    "class VisPoints:\n",
    "    @staticmethod\n",
    "    def k3d(xyz, colors:np.ndarray=None, max_color:float=1.0, point_size:float=0.0015):\n",
    "        # error check\n",
    "        assert type(colors) == np.ndarray or colors is None\n",
    "        if colors is not None:\n",
    "            assert len(colors.shape) in [1, 2], 'Expected colors is rgb (N, 3) or color codes (N).'\n",
    "            assert len(colors) == len(xyz)\n",
    "\n",
    "        # color setup\n",
    "        if colors is not None:\n",
    "            if not max_color == 255:\n",
    "                colors = colors / max_color * 255\n",
    "            if len(colors.shape) == 2: # rgb to color code\n",
    "                colors = to_hex_number(colors)\n",
    "            colors = colors.astype(np.uint32)\n",
    "        else:\n",
    "            colors = []\n",
    "\n",
    "        # xyz setup\n",
    "        if not type(xyz) == np.ndarray:\n",
    "            xyz = np.array(xyz)\n",
    "        xyz = xyz.astype(np.float32)\n",
    "\n",
    "        # plot\n",
    "        plot = k3d.plot()\n",
    "        points = k3d.points(xyz, colors, point_size=point_size, shader='flat')\n",
    "        plot += points\n",
    "        plot.display()"
   ],
   "outputs": [],
   "metadata": {}
  },
  {
   "cell_type": "code",
   "execution_count": 8,
   "source": [
    "import torch\n",
    "def t2n(torch_tensor:torch.Tensor) -> np.ndarray:\n",
    "    \"\"\"torch.Tensor to numpy.ndarray\n",
    "    \"\"\"\n",
    "    return torch_tensor.detach().cpu().numpy()\n",
    "\n",
    "def to_hex_number(rgb:np.ndarray):\n",
    "    rgb = rgb[:, 0]*256*256 + rgb[:,1]*256 + rgb[:,2] # from RGB to color code\n",
    "    return rgb\n"
   ],
   "outputs": [],
   "metadata": {}
  },
  {
   "cell_type": "code",
   "execution_count": 9,
   "source": [
    "t = data.x[:, :3]\n",
    "VisPoints.k3d(t2n(data.pos), to_hex_number(t2n(t)))\n"
   ],
   "outputs": [
    {
     "output_type": "display_data",
     "data": {
      "application/vnd.jupyter.widget-view+json": {
       "version_major": 2,
       "version_minor": 0,
       "model_id": "c37e85a43d1d42a3b8bb0b936065939f"
      },
      "text/plain": [
       "Output()"
      ]
     },
     "metadata": {}
    }
   ],
   "metadata": {}
  },
  {
   "cell_type": "code",
   "execution_count": 11,
   "source": [
    "data = dataset[0]\n",
    "print(data)\n",
    "vis_room_idx = data.area_room[0]\n",
    "points = []\n",
    "rgb = []\n",
    "i = 0\n",
    "for data in dataset:\n",
    "    if vis_room_idx != data.area_room[0]:\n",
    "        break\n",
    "    i += 1\n",
    "    points.append(data.pos)\n",
    "    rgb.append(data.x[:, :3])\n",
    "\n",
    "print(i)\n",
    "points = torch.cat(points, dim=0)\n",
    "rgb = torch.cat(rgb, dim=0)\n",
    "VisPoints.k3d(t2n(points), to_hex_number(t2n(rgb)))\n",
    "\n",
    "\n"
   ],
   "outputs": [
    {
     "output_type": "stream",
     "name": "stdout",
     "text": [
      "Data(area_room=[4096], block=[4096], ins_y=[4096], pos=[4096, 3], x=[4096, 6], y=[4096])\n",
      "55\n"
     ]
    },
    {
     "output_type": "display_data",
     "data": {
      "application/vnd.jupyter.widget-view+json": {
       "version_major": 2,
       "version_minor": 0,
       "model_id": "638417cf1ebb428fab4c6adf3d0c77d2"
      },
      "text/plain": [
       "Output()"
      ]
     },
     "metadata": {}
    }
   ],
   "metadata": {}
  },
  {
   "cell_type": "code",
   "execution_count": 24,
   "source": [
    "data = dataset[0]\n",
    "print(data)\n",
    "vis_room_idx = data.area_room[0]\n",
    "points = []\n",
    "rgb = []\n",
    "for data in dataset:\n",
    "    if vis_room_idx != data.area_room[0]:\n",
    "        break\n",
    "    points.append(data.x[:, 3:])\n",
    "    rgb.append(data.x[:, :3])\n",
    "\n",
    "points = torch.cat(points, dim=0)\n",
    "rgb = torch.cat(rgb, dim=0)\n",
    "VisPoints.k3d(t2n(points), to_hex_number(t2n(rgb)))\n",
    "\n"
   ],
   "outputs": [
    {
     "output_type": "stream",
     "name": "stdout",
     "text": [
      "Data(area_room=[4096], block=[4096], ins_y=[4096], pos=[4096, 3], x=[4096, 6], y=[4096])\n"
     ]
    },
    {
     "output_type": "display_data",
     "data": {
      "application/vnd.jupyter.widget-view+json": {
       "version_major": 2,
       "version_minor": 0,
       "model_id": "440931dd92d84cf7a8d5d1acb38136a2"
      },
      "text/plain": [
       "Output()"
      ]
     },
     "metadata": {}
    }
   ],
   "metadata": {}
  },
  {
   "cell_type": "code",
   "execution_count": null,
   "source": [],
   "outputs": [],
   "metadata": {}
  }
 ],
 "metadata": {
  "orig_nbformat": 4,
  "language_info": {
   "name": "python",
   "version": "3.7.10",
   "mimetype": "text/x-python",
   "codemirror_mode": {
    "name": "ipython",
    "version": 3
   },
   "pygments_lexer": "ipython3",
   "nbconvert_exporter": "python",
   "file_extension": ".py"
  },
  "kernelspec": {
   "name": "python3",
   "display_name": "Python 3.7.10 64-bit ('tp3v1': conda)"
  },
  "interpreter": {
   "hash": "8a5c24375b80f12a307571fcecf3962cc4daf97532989e59357869772c9edc1b"
  }
 },
 "nbformat": 4,
 "nbformat_minor": 2
}